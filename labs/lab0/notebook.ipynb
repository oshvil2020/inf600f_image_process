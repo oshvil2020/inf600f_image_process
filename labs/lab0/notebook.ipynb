{
 "cells": [
  {
   "cell_type": "markdown",
   "metadata": {},
   "source": [
    "### Allo"
   ]
  },
  {
   "cell_type": "code",
   "execution_count": 10,
   "metadata": {},
   "outputs": [],
   "source": [
    "import numpy as np"
   ]
  },
  {
   "cell_type": "code",
   "execution_count": 20,
   "metadata": {},
   "outputs": [
    {
     "name": "stdout",
     "output_type": "stream",
     "text": [
      "[1, 2, 3, 4, 5]\n",
      "[1, 2, 3, 4, 5, 6]\n",
      "<class 'list'>\n",
      "[1 2 3 4 5 6]\n",
      "<class 'numpy.ndarray'>\n",
      "[1, 2, 3, 4, 5, 6]\n",
      "<class 'list'>\n"
     ]
    }
   ],
   "source": [
    "liste = [1, 2, 3, 4, 5]\n",
    "print(liste)\n",
    "\n",
    "liste.append(6)\n",
    "print(liste)\n",
    "\n",
    "print(type(liste))\n",
    "\n",
    "liste = np.array(liste)\n",
    "print(liste)\n",
    "print(type(liste))\n",
    "\n",
    "liste = liste.tolist()\n",
    "print(liste)\n",
    "print(type(liste))"
   ]
  },
  {
   "cell_type": "code",
   "execution_count": 23,
   "metadata": {},
   "outputs": [
    {
     "name": "stdout",
     "output_type": "stream",
     "text": [
      "[1, 2, 42, 4, 5, 6]\n"
     ]
    }
   ],
   "source": [
    "def fontion_magique(liste: list[int], index: int, new_value: int) -> None:\n",
    "    liste[index] = new_value\n",
    "\n",
    "fontion_magique(liste, 2, 42)\n",
    "print(liste)"
   ]
  },
  {
   "cell_type": "code",
   "execution_count": 1,
   "metadata": {},
   "outputs": [
    {
     "name": "stdout",
     "output_type": "stream",
     "text": [
      "3\n",
      "-1\n"
     ]
    }
   ],
   "source": [
    "from src.projet.main import Calculator\n",
    "\n",
    "calc = Calculator()\n",
    "print(calc.add(1, 2))\n",
    "print(calc.sub(1, 2))"
   ]
  },
  {
   "cell_type": "code",
   "execution_count": 2,
   "metadata": {},
   "outputs": [
    {
     "name": "stdout",
     "output_type": "stream",
     "text": [
      "John\n",
      "3\n",
      "Jane\n",
      "4\n",
      "Je suis une fonction statique\n"
     ]
    }
   ],
   "source": [
    "from src.projet.main import Person\n",
    "\n",
    "p = Person(\"John\", 3)\n",
    "print(p.name)\n",
    "print(p.age)\n",
    "\n",
    "p2 = Person(\"Jane\", 4)\n",
    "print(p2.get_name())\n",
    "print(p2.age)\n",
    "\n",
    "print(Person.fn_statique())\n"
   ]
  }
 ],
 "metadata": {
  "kernelspec": {
   "display_name": "geo",
   "language": "python",
   "name": "python3"
  },
  "language_info": {
   "codemirror_mode": {
    "name": "ipython",
    "version": 3
   },
   "file_extension": ".py",
   "mimetype": "text/x-python",
   "name": "python",
   "nbconvert_exporter": "python",
   "pygments_lexer": "ipython3",
   "version": "3.10.13"
  }
 },
 "nbformat": 4,
 "nbformat_minor": 2
}
